{
 "cells": [
  {
   "cell_type": "code",
   "execution_count": 2,
   "id": "bee749b2-19e5-4054-b81e-f4fd3fd2a436",
   "metadata": {
    "tags": []
   },
   "outputs": [
    {
     "name": "stdout",
     "output_type": "stream",
     "text": [
      "Fetching game data from Lichess...\n",
      "Successfully fetched data. Now parsing games...\n",
      "Successfully parsed 50 games.\n",
      "Data saved to drnykterstein_games_with_moves.json\n"
     ]
    }
   ],
   "source": [
    "import requests\n",
    "import chess.pgn\n",
    "import io\n",
    "import json\n",
    "\n",
    "# 🎯 Define your target and parameters\n",
    "username = \"drnykterstein\"\n",
    "api_url = f\"https://lichess.org/api/games/user/{username}\"\n",
    "\n",
    "params = {\n",
    "    \"max\": 50,\n",
    "    \"rated\": \"true\",\n",
    "    \"perfType\": \"blitz\",\n",
    "    \"pgnInJson\": \"false\"\n",
    "}\n",
    "\n",
    "# 📡 Make the GET request to the Lichess API\n",
    "print(\"Fetching game data from Lichess...\")\n",
    "response = requests.get(api_url, params=params)\n",
    "\n",
    "all_games_data = []\n",
    "\n",
    "if response.status_code == 200:\n",
    "    print(\"Successfully fetched data. Now parsing games...\")\n",
    "    pgn_text = response.text\n",
    "    pgn_file = io.StringIO(pgn_text)\n",
    "\n",
    "    # Loop through each game in the PGN text\n",
    "    while True:\n",
    "        game = chess.pgn.read_game(pgn_file)\n",
    "        if game is None:\n",
    "            break\n",
    "\n",
    "        # 📊 Extract metadata features\n",
    "        game_features = {\n",
    "            \"Result\": game.headers.get(\"Result\"),\n",
    "            \"WhiteElo\": int(game.headers.get(\"WhiteElo\", 0)),\n",
    "            \"BlackElo\": int(game.headers.get(\"BlackElo\", 0)),\n",
    "            \"TimeControl\": game.headers.get(\"TimeControl\"),\n",
    "            \"Termination\": game.headers.get(\"Termination\"),\n",
    "            \"Opening\": game.headers.get(\"Opening\"),\n",
    "        }\n",
    "\n",
    "        # ♟️ NEW: Extract movement data\n",
    "        san_moves = []\n",
    "        board = game.board() # Create a board from the game's starting position\n",
    "        for move in game.mainline_moves():\n",
    "            san_moves.append(board.san(move))\n",
    "            board.push(move) # Update the board with the move\n",
    "\n",
    "        game_features[\"Moves\"] = san_moves\n",
    "        game_features[\"TotalMoves\"] = board.fullmove_number\n",
    "        \n",
    "        all_games_data.append(game_features)\n",
    "    \n",
    "    print(f\"Successfully parsed {len(all_games_data)} games.\")\n",
    "\n",
    "    # 📝 Save the structured data to a JSON file\n",
    "    output_filename = f\"{username}_games_with_moves.json\"\n",
    "    with open(output_filename, 'w') as json_file:\n",
    "        json.dump(all_games_data, json_file, indent=4)\n",
    "    \n",
    "    print(f\"Data saved to {output_filename}\")\n",
    "\n",
    "else:\n",
    "    print(f\"Error: Failed to fetch data. Status code: {response.status_code}\")\n",
    "    print(response.text)\n"
   ]
  },
  {
   "cell_type": "code",
   "execution_count": null,
   "id": "b91d533f-a6de-4813-98cc-23b251ea8604",
   "metadata": {},
   "outputs": [],
   "source": []
  }
 ],
 "metadata": {
  "kernelspec": {
   "display_name": "Python 3",
   "language": "python",
   "name": "python3"
  },
  "language_info": {
   "codemirror_mode": {
    "name": "ipython",
    "version": 3
   },
   "file_extension": ".py",
   "mimetype": "text/x-python",
   "name": "python",
   "nbconvert_exporter": "python",
   "pygments_lexer": "ipython3",
   "version": "3.10.12"
  }
 },
 "nbformat": 4,
 "nbformat_minor": 5
}
